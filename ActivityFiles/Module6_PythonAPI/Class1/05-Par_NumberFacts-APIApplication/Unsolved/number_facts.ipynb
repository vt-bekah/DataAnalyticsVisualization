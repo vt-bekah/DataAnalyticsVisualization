{
 "cells": [
  {
   "cell_type": "code",
   "execution_count": 10,
   "metadata": {
    "tags": []
   },
   "outputs": [],
   "source": [
    "# Dependencies\n",
    "import requests\n",
    "import json"
   ]
  },
  {
   "cell_type": "code",
   "execution_count": 11,
   "metadata": {
    "tags": []
   },
   "outputs": [
    {
     "name": "stdout",
     "output_type": "stream",
     "text": [
      "<Response [200]>\n"
     ]
    }
   ],
   "source": [
    "# Base URL for GET requests to retrieve number/date facts\n",
    "base_url = \"http://numbersapi.com/\"\n",
    "print(requests.get(base_url))"
   ]
  },
  {
   "cell_type": "code",
   "execution_count": 16,
   "metadata": {},
   "outputs": [
    {
     "name": "stdin",
     "output_type": "stream",
     "text": [
      "What type of data would you like to search for? [Trivia, Math, Date, or Year]  math\n"
     ]
    }
   ],
   "source": [
    "# Ask the user what kind of data they would like to search for\n",
    "search_type = input(\"What type of data would you like to search for? [Trivia, Math, Date, or Year] \")"
   ]
  },
  {
   "cell_type": "code",
   "execution_count": 17,
   "metadata": {},
   "outputs": [
    {
     "name": "stdin",
     "output_type": "stream",
     "text": [
      "What number would you like to search for?  568\n"
     ]
    },
    {
     "name": "stdout",
     "output_type": "stream",
     "text": [
      "568 is the smallest number whose 7^{th} power can be written as the sum of seven 7^{th} powers.\n"
     ]
    }
   ],
   "source": [
    "# Create code to return a number fact\n",
    "# If the kind of search is \"date\" take in two numbers; lower case compare\n",
    "if search_type.lower() == \"date\":\n",
    "    \n",
    "  # Collect the month to search for\n",
    "    search_month = input(\"What month would you like to search for? ## \")\n",
    "  # Collect the day to search for\n",
    "    search_day = input(\"What day would you like to search for? ## \")\n",
    "\n",
    "  # Make an API call to the \"date\" API and convert response object to JSON\n",
    "    # date_url = base_url + search_month + search_day + \"date\"\n",
    "    # response2 = requests.get(date_url)\n",
    "    \n",
    "    response3 = requests.get(f\"{base_url}{search_month}/{search_day}/date?json\").json()\n",
    "    \n",
    "  # Print the fact stored within the response\n",
    "    # date_data = response2.json()\n",
    "    # print(json.dumps(date_data, indent=4)\n",
    "    \n",
    "    print(response3[\"text\"])\n",
    "\n",
    "# If the kind of search is anything but \"date\" then take one number\n",
    "else:\n",
    "\n",
    "  # Collect the number to search for\n",
    "    search_number = input(\"What number would you like to search for? \")\n",
    "\n",
    "  # Make an API call to the API and convert response object to JSON\n",
    "    response3 = requests.get(base_url + search_number + \"/\" + search_type.lower() + \"?json\").json()\n",
    "    \n",
    "  # Print the fact stored within the response\n",
    "    print(response3[\"text\"])\n"
   ]
  },
  {
   "cell_type": "code",
   "execution_count": null,
   "metadata": {
    "collapsed": true,
    "jupyter": {
     "outputs_hidden": true
    }
   },
   "outputs": [],
   "source": []
  }
 ],
 "metadata": {
  "kernelspec": {
   "display_name": "Python 3 (ipykernel)",
   "language": "python",
   "name": "python3"
  },
  "language_info": {
   "codemirror_mode": {
    "name": "ipython",
    "version": 3
   },
   "file_extension": ".py",
   "mimetype": "text/x-python",
   "name": "python",
   "nbconvert_exporter": "python",
   "pygments_lexer": "ipython3",
   "version": "3.10.11"
  },
  "varInspector": {
   "cols": {
    "lenName": 16,
    "lenType": 16,
    "lenVar": 40
   },
   "kernels_config": {
    "python": {
     "delete_cmd_postfix": "",
     "delete_cmd_prefix": "del ",
     "library": "var_list.py",
     "varRefreshCmd": "print(var_dic_list())"
    },
    "r": {
     "delete_cmd_postfix": ") ",
     "delete_cmd_prefix": "rm(",
     "library": "var_list.r",
     "varRefreshCmd": "cat(var_dic_list()) "
    }
   },
   "types_to_exclude": [
    "module",
    "function",
    "builtin_function_or_method",
    "instance",
    "_Feature"
   ],
   "window_display": false
  }
 },
 "nbformat": 4,
 "nbformat_minor": 4
}
