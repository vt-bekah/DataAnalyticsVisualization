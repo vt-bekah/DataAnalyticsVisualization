{
 "cells": [
  {
   "cell_type": "code",
   "execution_count": 1,
   "metadata": {
    "tags": []
   },
   "outputs": [],
   "source": [
    "# Dependencies\n",
    "import pandas as pd\n",
    "import matplotlib.pyplot as plt\n",
    "import scipy.stats as st\n",
    "import numpy as np"
   ]
  },
  {
   "cell_type": "code",
   "execution_count": 2,
   "metadata": {
    "tags": []
   },
   "outputs": [],
   "source": [
    "# Read in the LAX temperature data\n",
    "temperature_df = pd.read_csv('../Resources/lax_temperature.csv')\n",
    "temperatures = temperature_df['HourlyDryBulbTemperature']"
   ]
  },
  {
   "cell_type": "code",
   "execution_count": 5,
   "metadata": {
    "tags": []
   },
   "outputs": [
    {
     "name": "stdout",
     "output_type": "stream",
     "text": [
      "Mean is 57.65514310002834\n",
      "Median is 57.0\n",
      "Mode is ModeResult(mode=array([57], dtype=int64), count=array([327]))\n"
     ]
    },
    {
     "name": "stderr",
     "output_type": "stream",
     "text": [
      "C:\\Users\\vt_be\\AppData\\Local\\Temp\\ipykernel_14788\\702959021.py:8: FutureWarning: Unlike other reduction functions (e.g. `skew`, `kurtosis`), the default behavior of `mode` typically preserves the axis it acts along. In SciPy 1.11.0, this behavior will change: the default value of `keepdims` will become False, the `axis` over which the statistic is taken will be eliminated, and the value None will no longer be accepted. Set `keepdims` to True or False to avoid this warning.\n",
      "  mode_scipy = st.mode(temperatures)\n"
     ]
    }
   ],
   "source": [
    "# Demonstrate calculating measures of central tendency\n",
    "mean_numpy = np.mean(temperatures)\n",
    "print(f\"Mean is {mean_numpy}\")\n",
    "\n",
    "median_numpy = np.median (temperatures)\n",
    "print(f\"Median is {median_numpy}\")\n",
    "\n",
    "mode_scipy = st.mode(temperatures)\n",
    "print(f\"Mode is {mode_scipy}\")"
   ]
  },
  {
   "cell_type": "code",
   "execution_count": 6,
   "metadata": {
    "tags": []
   },
   "outputs": [
    {
     "data": {
      "image/png": "[encoded data removed]",
      "text/plain": [
       "<Figure size 640x480 with 1 Axes>"
      ]
     },
     "metadata": {},
     "output_type": "display_data"
    },
    {
     "name": "stdout",
     "output_type": "stream",
     "text": [
      "NormaltestResult(statistic=1.3745813265675175, pvalue=0.5029368501005724)\n"
     ]
    }
   ],
   "source": [
    "# Characterize the data set using matplotlib and stats.normaltest\n",
    "plt.hist(temperatures)\n",
    "plt.xlabel(\"Temperature (F)\")\n",
    "plt.ylabel(\"Counts\")\n",
    "plt.show()\n",
    "\n",
    "# p value tells whether doing another sample would yield different results\n",
    "print(st.normaltest(temperatures.sample(50)))"
   ]
  },
  {
   "cell_type": "code",
   "execution_count": 12,
   "metadata": {
    "tags": []
   },
   "outputs": [
    {
     "name": "stdout",
     "output_type": "stream",
     "text": [
      "NormaltestResult(statistic=3.7703687845266964, pvalue=0.15180106590649417)\n",
      "NormaltestResult(statistic=33.874502911640874, pvalue=4.408036217516823e-08)\n",
      "NormaltestResult(statistic=0.6385914782604462, pvalue=0.7266606155473341)\n",
      "NormaltestResult(statistic=1.2819373670000325, pvalue=0.5267818918841551)\n",
      "NormaltestResult(statistic=5.51126819033405, pvalue=0.0635686982819699)\n",
      "----------------------\n",
      "NormaltestResult(statistic=5.699935354425581, pvalue=0.05784619059473047)\n",
      "NormaltestResult(statistic=7.3798487620973905, pvalue=0.024973890470282138)\n",
      "NormaltestResult(statistic=8.027788812859821, pvalue=0.0180629137566387)\n",
      "NormaltestResult(statistic=7.782396020457063, pvalue=0.020420866970272813)\n",
      "NormaltestResult(statistic=5.66050698711102, pvalue=0.05899789618724316)\n",
      "--------------------\n",
      "NormaltestResult(statistic=202.53753937770182, pvalue=1.0460010849581777e-44)\n"
     ]
    }
   ],
   "source": [
    "# p value tells whether doing another sample would yield different results\n",
    "print(st.normaltest(temperatures.sample(50)))\n",
    "print(st.normaltest(temperatures.sample(50)))\n",
    "print(st.normaltest(temperatures.sample(50)))\n",
    "print(st.normaltest(temperatures.sample(50)))\n",
    "print(st.normaltest(temperatures.sample(50)))\n",
    "print(\"----------------------\")\n",
    "print(st.normaltest(temperatures.sample(100)))\n",
    "print(st.normaltest(temperatures.sample(100)))\n",
    "print(st.normaltest(temperatures.sample(100)))\n",
    "print(st.normaltest(temperatures.sample(100)))\n",
    "print(st.normaltest(temperatures.sample(100)))\n",
    "print(\"--------------------\")\n",
    "# Run the normality test on the whole temperatures DataFrame\n",
    "print(st.normaltest(temperatures.sample(3529)))\n",
    "\n",
    "# The p-value can be perceived as an oracle that judges our results. \n",
    "# If the p-value is 0.05 or lower, the result is trumpeted as significant, but if it is higher than 0.05, the result is non-significant and tends to be passed over in silence."
   ]
  },
  {
   "cell_type": "code",
   "execution_count": 16,
   "metadata": {
    "tags": []
   },
   "outputs": [
    {
     "name": "stdout",
     "output_type": "stream",
     "text": [
      "the population variance using the NumPy module is 32.33077618382964\n",
      "std using NumPy is 5.686015844493369\n"
     ]
    }
   ],
   "source": [
    "# Demonstrate calculating the variance and standard deviation using the different modules\n",
    "var_numpy = np.var(temperatures, ddof=0)\n",
    "print(f\"the population variance using the NumPy module is {var_numpy}\")\n",
    "\n",
    "sd_numpy = np.std(temperatures, ddof=0)\n",
    "print(f\"std using NumPy is {sd_numpy}\")"
   ]
  },
  {
   "cell_type": "code",
   "execution_count": 7,
   "metadata": {},
   "outputs": [
    {
     "name": "stdout",
     "output_type": "stream",
     "text": [
      "Roughly 68% of the data is between 51.969 and 63.341\n",
      "Roughly 95% of the data is between 46.283 and 69.027\n",
      "Roughly 99.7% of the data is between 40.597 and 74.713\n"
     ]
    }
   ],
   "source": [
    "# Calculate the 68-95-99.7 rule using the standard deviation - calculate +/-1 std, +/-2 std, +/-3 std\n",
    "\n"
   ]
  },
  {
   "cell_type": "code",
   "execution_count": 18,
   "metadata": {
    "scrolled": true,
    "tags": []
   },
   "outputs": [
    {
     "name": "stdout",
     "output_type": "stream",
     "text": [
      "Z-score using SciPy is 0      -0.994570\n",
      "1      -1.170440\n",
      "2      -0.994570\n",
      "3      -1.522181\n",
      "4      -2.577401\n",
      "          ...   \n",
      "3524    0.412390\n",
      "3525    0.236520\n",
      "3526    0.060650\n",
      "3527    0.060650\n",
      "3528    0.060650\n",
      "Name: HourlyDryBulbTemperature, Length: 3529, dtype: float64\n"
     ]
    }
   ],
   "source": [
    "# Demonstrate calculating the z-scores using SciPy - the std dev a point is from the mean\n",
    "z_scipy = st.zscore(temperatures)\n",
    "print(f\"Z-score using SciPy is {z_scipy}\")"
   ]
  },
  {
   "cell_type": "code",
   "execution_count": null,
   "metadata": {},
   "outputs": [],
   "source": []
  }
 ],
 "metadata": {
  "kernelspec": {
   "display_name": "Python 3 (ipykernel)",
   "language": "python",
   "name": "python3"
  },
  "language_info": {
   "codemirror_mode": {
    "name": "ipython",
    "version": 3
   },
   "file_extension": ".py",
   "mimetype": "text/x-python",
   "name": "python",
   "nbconvert_exporter": "python",
   "pygments_lexer": "ipython3",
   "version": "3.10.11"
  }
 },
 "nbformat": 4,
 "nbformat_minor": 4
}
